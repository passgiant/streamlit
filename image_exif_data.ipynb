{
 "cells": [
  {
   "cell_type": "markdown",
   "id": "b9893ea4-c022-4f59-baab-199131a60003",
   "metadata": {},
   "source": [
    "## **사진에서 필요한 EXIF 데이터 추출하기**"
   ]
  },
  {
   "cell_type": "markdown",
   "id": "ba97776c-349e-4174-9e1e-9fc933b14240",
   "metadata": {},
   "source": [
    "**EXIF**(Exchangeable Image File Format) 데이터는 디지털 카메라나 스마트폰 등으로 사진을 찍을 때 자동으로 생성되어 이미지 파일에 포함되는 메타데이터입니다. EXIF 메타데이터는 사진의 다양한 정보(촬영 환경, 카메라 설정 등)를 담고 있어 이미지의 속성이나 촬영 상황을 자세히 알 수 있게 해줍니다. \n",
    "\n",
    "EXIF 데이터는 일반적으로 다음과 같은 정보를 포함합니다.\n",
    "\n",
    "#### 1. **기본 정보**\n",
    "   - **이미지 해상도**: 이미지의 가로 및 세로 크기 (픽셀 단위)\n",
    "   - **파일 크기**: 이미지 파일의 용량\n",
    "   - **이미지 형식**: JPEG, PNG 등 파일 포맷\n",
    "\n",
    "#### 2. **카메라 정보**\n",
    "   - **카메라 제조사** 및 **모델**: 사진을 촬영한 카메라나 스마트폰의 제조사 및 모델 정보\n",
    "   - **렌즈 정보**: 사용된 렌즈의 정보\n",
    "\n",
    "#### 3. **촬영 설정**\n",
    "   - **ISO 감도**: 이미지 센서의 감도 (빛에 대한 민감도)\n",
    "   - **셔터 속도**: 셔터가 열려 있는 시간 (노출 시간)\n",
    "   - **조리개 값 (Aperture)**: 렌즈의 조리개 설정 값 (F값)\n",
    "   - **초점 거리**: 사용된 렌즈의 초점 거리 (mm 단위)\n",
    "\n",
    "#### 4. **날짜 및 시간 정보**\n",
    "   - **촬영 일시**: 사진을 촬영한 날짜와 시간\n",
    "   - **파일 수정 일시**: 사진 파일이 마지막으로 수정된 날짜와 시간\n",
    "\n",
    "#### 5. **위치 정보 (GPS)**\n",
    "   - **위도, 경도**: 촬영된 위치의 좌표 (GPS가 활성화된 경우)\n",
    "   - **고도**: 촬영된 위치의 고도 정보\n",
    "   - **방향**: 카메라가 향하고 있는 방향 (방위각)\n",
    "\n",
    "#### 6. **기타 정보**\n",
    "   - **화이트 밸런스**: 화이트 밸런스 설정 (자동 또는 수동)\n",
    "   - **플래시 사용 여부**: 플래시가 사용되었는지 여부\n",
    "   - **사진 방향**: 사진이 가로로 촬영되었는지, 세로로 촬영되었는지 등 회전 정보\n",
    "\n",
    "#### **EXIF 데이터 활용**\n",
    "EXIF 데이터는 이미지 편집 프로그램이나 이미지 관리 소프트웨어에서 쉽게 확인할 수 있으며, 이를 통해 사진이 촬영된 환경이나 설정을 분석하고 보정할 수 있습니다. 또한, 위치 정보(GPS 데이터)를 포함한 경우, 사진이 촬영된 장소를 지도에서 확인하거나 사진을 시간 및 위치에 따라 정리하는 데 활용할 수 있습니다.\n",
    "\n",
    "#### **EXIF 데이터 보기와 수정**\n",
    "EXIF 데이터는 여러 프로그램에서 확인할 수 있으며, 일부는 Python 등 프로그래밍 언어를 통해서도 확인하거나 수정할 수 있습니다. Python에서는 `Pillow`, `exifread`와 같은 라이브러리를 사용하여 EXIF 데이터를 쉽게 확인할 수 있습니다. \n",
    "\n",
    "#### **주의사항**\n",
    "EXIF 데이터에는 개인 정보가 포함될 수 있습니다. 특히 GPS 위치 정보가 포함된 경우, 사진이 촬영된 장소가 공개될 수 있으므로 인터넷에 사진을 업로드할 때는 주의가 필요합니다."
   ]
  },
  {
   "cell_type": "code",
   "execution_count": 3,
   "id": "24fbec8c-c442-4711-af5c-3616c767f92f",
   "metadata": {},
   "outputs": [],
   "source": [
    "import requests\n",
    "from PIL import Image\n",
    "from PIL.ExifTags import TAGS, GPSTAGS\n",
    "import os\n",
    "import json\n",
    "from dotenv import load_dotenv\n",
    "\n",
    "load_dotenv()\n",
    "\n",
    "# 이미지 파일 경로\n",
    "basePath = 'C:/Users/park0/gcloud/copy360/data/'\n",
    "image_path = os.path.join(basePath, 'images/IMG_5008.JPG')\n",
    "output_path = os.path.join(basePath, 'ai-meta/image_metadata.txt')"
   ]
  },
  {
   "cell_type": "code",
   "execution_count": 45,
   "id": "8570a573-1004-463e-9d95-de6d10736fa9",
   "metadata": {},
   "outputs": [],
   "source": [
    "# exif의 모든 데이터를 다 뽑아보자!\n",
    "def get_image_all_metadata(image_path):\n",
    "    # 이미지 파일 열기\n",
    "    image = Image.open(image_path)\n",
    "    metadata = {}\n",
    "    \n",
    "    # EXIF 데이터 추출\n",
    "    exif_data = image._getexif()\n",
    "    if exif_data:\n",
    "        for tag_id, value in exif_data.items():\n",
    "            # 태그 ID를 사람이 읽을 수 있는 이름으로 변환\n",
    "            tag_name = TAGS.get(tag_id, tag_id)\n",
    "            metadata[tag_name] = value\n",
    "    \n",
    "    return metadata"
   ]
  },
  {
   "cell_type": "code",
   "execution_count": 46,
   "id": "6b333969-54ed-4272-8cd9-3d960e04ab01",
   "metadata": {},
   "outputs": [
    {
     "name": "stdout",
     "output_type": "stream",
     "text": [
      "{'GPSInfo': {1: 'N', 2: (37.0, 33.0, 6.59), 3: 'E', 4: (127.0, 18.0, 53.43), 5: b'\\x00', 6: 30.200124753092837, 7: (8.0, 32.0, 39.0), 12: 'K', 13: 0.0, 16: 'T', 17: 185.17003628823224, 23: 'T', 24: 185.17003628823224, 29: '2024:10:09', 31: 3.5355339046563916}, 'ResolutionUnit': 2, 'ExifOffset': 244, 'Make': 'Apple', 'Model': 'iPhone 13 Pro Max', 'Software': '18.0.1', 'Orientation': 1, 'DateTime': '2024:10:09 17:32:39', 'YCbCrPositioning': 1, 'XResolution': 72.0, 'YResolution': 72.0, 'HostComputer': 'iPhone 13 Pro Max', 'ExifVersion': b'0232', 'ComponentsConfiguration': b'\\x01\\x02\\x03\\x00', 'ShutterSpeedValue': 11.20024953212726, 'DateTimeOriginal': '2024:10:09 17:32:39', 'DateTimeDigitized': '2024:10:09 17:32:39', 'ApertureValue': 1.1699250021066825, 'BrightnessValue': 9.237274353553424, 'ExposureBiasValue': 0.0, 'MeteringMode': 5, 'Flash': 16, 'FocalLength': 5.7, 'ColorSpace': 65535, 'ExifImageWidth': 4032, 'FocalLengthIn35mmFilm': 26, 'SceneCaptureType': 0, 'OffsetTime': '+09:00', 'OffsetTimeOriginal': '+09:00', 'OffsetTimeDigitized': '+09:00', 'SubsecTimeOriginal': '957', 'SubjectLocation': (2012, 1506, 2217, 1327), 'SubsecTimeDigitized': '957', 'ExifImageHeight': 3024, 'SensingMethod': 2, 'ExposureTime': 0.00042498937526561835, 'FNumber': 1.5, 'SceneType': b'\\x01', 'ExposureProgram': 2, 'ISOSpeedRatings': 50, 'ExposureMode': 0, 'FlashPixVersion': b'0100', 'WhiteBalance': 0, 'LensSpecification': (1.5700000524639703, 9.0, 1.5, 2.8), 'LensMake': 'Apple', 'LensModel': 'iPhone 13 Pro Max back triple camera 5.7mm f/1.5', 'CompositeImage': 2, 'MakerNote': b'Apple iOS\\x00\\x00\\x01MM\\x009\\x00\\x01\\x00\\t\\x00\\x00\\x00\\x01\\x00\\x00\\x00\\x0f\\x00\\x02\\x00\\x07\\x00\\x00\\x02\\x00\\x00\\x00\\x02\\xc0\\x00\\x03\\x00\\x07\\x00\\x00\\x00h\\x00\\x00\\x04\\xc0\\x00\\x04\\x00\\t\\x00\\x00\\x00\\x01\\x00\\x00\\x00\\x01\\x00\\x05\\x00\\t\\x00\\x00\\x00\\x01\\x00\\x00\\x00\\xbd\\x00\\x06\\x00\\t\\x00\\x00\\x00\\x01\\x00\\x00\\x00\\xba\\x00\\x07\\x00\\t\\x00\\x00\\x00\\x01\\x00\\x00\\x00\\x01\\x00\\x08\\x00\\n\\x00\\x00\\x00\\x03\\x00\\x00\\x05(\\x00\\x0c\\x00\\n\\x00\\x00\\x00\\x02\\x00\\x00\\x05@\\x00\\r\\x00\\t\\x00\\x00\\x00\\x01\\x00\\x00\\x00\\x00\\x00\\x0e\\x00\\t\\x00\\x00\\x00\\x01\\x00\\x00\\x00\\x04\\x00\\x10\\x00\\t\\x00\\x00\\x00\\x01\\x00\\x00\\x00\\x01\\x00\\x11\\x00\\x02\\x00\\x00\\x00%\\x00\\x00\\x05P\\x00\\x14\\x00\\t\\x00\\x00\\x00\\x01\\x00\\x00\\x00\\n\\x00\\x17\\x00\\x10\\x00\\x00\\x00\\x01\\x00\\x00\\x05u\\x00\\x19\\x00\\t\\x00\\x00\\x00\\x01\\x00\\x00\\x00\\x00\\x00\\x1f\\x00\\t\\x00\\x00\\x00\\x01\\x00\\x00\\x00\\x00\\x00 \\x00\\x02\\x00\\x00\\x00%\\x00\\x00\\x05}\\x00!\\x00\\n\\x00\\x00\\x00\\x01\\x00\\x00\\x05\\xa2\\x00#\\x00\\t\\x00\\x00\\x00\\x02\\x00\\x00\\x05\\xaa\\x00%\\x00\\x10\\x00\\x00\\x00\\x01\\x00\\x00\\x05\\xb2\\x00&\\x00\\t\\x00\\x00\\x00\\x01\\x00\\x00\\x00\\x03\\x00\\'\\x00\\n\\x00\\x00\\x00\\x01\\x00\\x00\\x05\\xba\\x00(\\x00\\t\\x00\\x00\\x00\\x01\\x00\\x00\\x00\\x01\\x00+\\x00\\x02\\x00\\x00\\x00%\\x00\\x00\\x05\\xc2\\x00-\\x00\\t\\x00\\x00\\x00\\x01\\x00\\x00\\x14\\xf0\\x00.\\x00\\t\\x00\\x00\\x00\\x01\\x00\\x00\\x00\\x01\\x00/\\x00\\t\\x00\\x00\\x00\\x01\\x00\\x00\\x00,\\x003\\x00\\t\\x00\\x00\\x00\\x01\\x00\\x00\\x10\\x00\\x004\\x00\\t\\x00\\x00\\x00\\x01\\x00\\x00\\x00\\x02\\x005\\x00\\t\\x00\\x00\\x00\\x01\\x00\\x00\\x00\\x01\\x006\\x00\\t\\x00\\x00\\x00\\x01\\x00\\x00\\x84K\\x007\\x00\\t\\x00\\x00\\x00\\x01\\x00\\x00\\x00\\x04\\x008\\x00\\t\\x00\\x00\\x00\\x01\\x00\\x00\\x02?\\x009\\x00\\t\\x00\\x00\\x00\\x01\\x00\\x00\\x00\\x00\\x00:\\x00\\t\\x00\\x00\\x00\\x01\\x00\\x00\\x00\\x00\\x00;\\x00\\t\\x00\\x00\\x00\\x01\\x00\\x00\\x00\\x00\\x00<\\x00\\t\\x00\\x00\\x00\\x01\\x00\\x00\\x00\\x04\\x00=\\x00\\t\\x00\\x00\\x00\\x01\\x00\\x00\\x00\\x00\\x00?\\x00\\t\\x00\\x00\\x00\\x01\\x00\\x00\\x00)\\x00@\\x00\\x07\\x00\\x00\\x00J\\x00\\x00\\x05\\xe7\\x00A\\x00\\t\\x00\\x00\\x00\\x01\\x00\\x00\\x00\\x00\\x00B\\x00\\t\\x00\\x00\\x00\\x01\\x00\\x00\\x00\\x00\\x00C\\x00\\t\\x00\\x00\\x00\\x01\\x00\\x00\\x00\\x00\\x00D\\x00\\t\\x00\\x00\\x00\\x01\\x00\\x00\\x00\\x00\\x00E\\x00\\t\\x00\\x00\\x00\\x01\\x00\\x00\\x00\\x00\\x00F\\x00\\t\\x00\\x00\\x00\\x01\\x00\\x00\\x00\\x00\\x00H\\x00\\t\\x00\\x00\\x00\\x01\\x00\\x00\\x02?\\x00I\\x00\\t\\x00\\x00\\x00\\x01\\x00\\x00\\x00\\x00\\x00J\\x00\\t\\x00\\x00\\x00\\x01\\x00\\x00\\x00\\x02\\x00M\\x00\\n\\x00\\x00\\x00\\x01\\x00\\x00\\x061\\x00N\\x00\\x07\\x00\\x00\\x00y\\x00\\x00\\x069\\x00O\\x00\\x07\\x00\\x00\\x00+\\x00\\x00\\x06\\xb2\\x00R\\x00\\t\\x00\\x00\\x00\\x01\\x00\\x00\\x00\\x00\\x00S\\x00\\t\\x00\\x00\\x00\\x01\\x00\\x00\\x00\\x01\\x00U\\x00\\t\\x00\\x00\\x00\\x01\\x00\\x00\\x00\\x00\\x00X\\x00\\t\\x00\\x00\\x00\\x01\\x00\\x00\\x07\\x03\\x00\\x00\\x00\\x00\\xc5\\x00\\xcf\\x00\\xd4\\x00\\xd1\\x00\\xce\\x00\\xce\\x00\\xc4\\x00\\xb5\\x00\\xbe\\x00\\xae\\x00\\xa7\\x00\\xb7\\x00\\xbd\\x00\\xc7\\x00\\xd2\\x00\\xe9\\x00\\xc7\\x00\\xe1\\x00\\xe7\\x00\\xd0\\x00\\xc6\\x00\\xe4\\x00\\xf2\\x00\\xe7\\x00\\xcb\\x00\\xb0\\x00\\xb9\\x00\\xc4\\x00\\xc8\\x00\\xd5\\x00\\xf8\\x009\\x01\\xb0\\x00\\xd8\\x00\\x01\\x01\\xef\\x00\\xda\\x00\\xe8\\x00\\xf8\\x00\\xfa\\x00\\xdb\\x00\\xc8\\x00\\xc8\\x00\\xcd\\x00\\xda\\x00\\xeb\\x00\\x1b\\x01L\\x01\\xa9\\x00\\xb4\\x00\\xc5\\x00\\xda\\x00\\xdc\\x00\\xf0\\x00\\xea\\x00\\xe5\\x00\\xef\\x00\\x00\\x01\\x15\\x01\\x06\\x01\\xfa\\x00\\x15\\x01g\\x01`\\x01\\xc4\\x00\\xd8\\x00\\xc7\\x00\\xbf\\x00\\xd5\\x00\\xdf\\x00\\xd9\\x00\\xe4\\x00\\xe6\\x00\\xee\\x00)\\x01O\\x01-\\x01E\\x01n\\x01\\x8b\\x01\\xbb\\x00\\xcc\\x00\\xdb\\x00\\xf8\\x00\\xf6\\x00\\xf8\\x00\\x14\\x01(\\x01\\x1b\\x01\\x15\\x01,\\x01d\\x01u\\x01\\xa8\\x01\\xc1\\x01\\xd5\\x01\\xc3\\x00\\xce\\x00\\xdc\\x00\\xf5\\x00\\x1b\\x01\\x17\\x01>\\x01D\\x014\\x01=\\x01N\\x01p\\x01\\x9a\\x01\\xa2\\x01\\xc0\\x01\\xe7\\x01\\xd2\\x00\\xe3\\x00\\xeb\\x00\\xf5\\x00\\x07\\x01/\\x011\\x01\"\\x017\\x01K\\x01U\\x01k\\x01\\x88\\x01\\xb6\\x01\\xc5\\x01\\xe1\\x01\\xc2\\x00\\xc7\\x00\\xd0\\x00\\xdb\\x00\\xe7\\x00\\xf1\\x00\\xfa\\x00\\n\\x01\\x16\\x01\\x1c\\x01!\\x01+\\x01+\\x01\\xe6\\x00\\xde\\x00\\xdb\\x00K\\x00K\\x00b\\x00v\\x00t\\x00w\\x00\\x80\\x00\\x83\\x00\\x7f\\x00\\x80\\x00t\\x00V\\x00,\\x00&\\x00$\\x00\"\\x00\\x1c\\x00\\x1e\\x00$\\x004\\x009\\x00D\\x00W\\x00y\\x00x\\x00\\x8c\\x00|\\x00m\\x00C\\x00)\\x00\\'\\x00&\\x00T\\x00W\\x00X\\x00^\\x00d\\x00l\\x00r\\x00v\\x00y\\x00\\x7f\\x00\\x8a\\x00\\x94\\x00\\x9d\\x00\\xa3\\x00\\xa7\\x00\\xb1\\x00L\\x00P\\x00M\\x00Q\\x00U\\x00Y\\x00]\\x00_\\x00`\\x00f\\x00n\\x00z\\x00\\x83\\x00\\x91\\x00\\x9f\\x00\\xaf\\x00A\\x00F\\x00A\\x00D\\x00G\\x00J\\x00N\\x00O\\x00O\\x00R\\x00[\\x00e\\x00k\\x00u\\x00\\x81\\x00\\x93\\x003\\x006\\x006\\x007\\x009\\x00;\\x00=\\x00>\\x00>\\x00@\\x00E\\x00N\\x00T\\x00]\\x00g\\x00s\\x00+\\x00,\\x00,\\x00,\\x00.\\x00.\\x00/\\x000\\x00/\\x000\\x004\\x00:\\x00>\\x00D\\x00M\\x00X\\x00bplist00\\xd4\\x01\\x02\\x03\\x04\\x05\\x06\\x07\\x08UflagsUvalueYtimescaleUepoch\\x10\\x01\\x13\\x00\\x00\\x12#\\xa3\\xbbX\\xf5\\x12;\\x9a\\xca\\x00\\x10\\x00\\x08\\x11\\x17\\x1d\\'-/8=\\x00\\x00\\x00\\x00\\x00\\x00\\x01\\x01\\x00\\x00\\x00\\x00\\x00\\x00\\x00\\t\\x00\\x00\\x00\\x00\\x00\\x00\\x00\\x00\\x00\\x00\\x00\\x00\\x00\\x00\\x00?\\xff\\xff\\xcdv\\x00\\x003\\x0b\\xff\\xff\\xf5H\\x00\\x02\\x00\\xd9\\x00\\x002\\x0b\\x00\\x01\\xb4Z\\x00\\x00\\x01u\\x00\\x00\\x01\\x00\\x00\\x00\\x00\\x15\\x00\\x00\\x01\\x006C296B9B-EA1E-442D-A177-CE515B1100DC\\x00\\x00\\x00\\x00\\x00B\\x00 \\x0079B97B5E-51B7-4E28-AD4C-BDD3DE12B4FB\\x00\\x00\\x00\\x00\\x00\\x00\\x00\\x00\\x01\\x00\\x00\\x01\\x03\\x10\\x00\\x00\\x1d\\x00\\x00\\x00\\x00\\x00\\x00\\x00\\x82\\x00\\x01\\x012\\x00\\x00\\x04M5FC5FE9B-8B43-467F-B096-221D56C92BF0\\x00bplist00\\xd4\\x01\\x02\\x03\\x04\\x05\\x06\\x06\\x07Q3Q1Q2Q0\\x10\\x00\"\\x00\\x00\\x00\\x00\\x10\\x01\\x08\\x11\\x13\\x15\\x17\\x19\\x1b \\x00\\x00\\x00\\x00\\x00\\x00\\x01\\x01\\x00\\x00\\x00\\x00\\x00\\x00\\x00\\x08\\x00\\x00\\x00\\x00\\x00\\x00\\x00\\x00\\x00\\x00\\x00\\x00\\x00\\x00\\x00\"\\x00\\x01\\xee\\x0c\\x00\\x00\\x12\\x7fbplist00\\xd2\\x01\\x02\\x03\\x04Q1Q2\\x10\\x03\\xa2\\x05\\n\\xd2\\x06\\x07\\x08\\tS2.1S2.2#@l\\xdb\\x1d\\x00\\x00\\x00\\x00#@\\x97\\xa0\\x00\\x00\\x00\\x00\\x00\\xd2\\x06\\x07\\x0b\\x0c#?\\xdb\\xb8\\x80\\x00\\x00\\x00\\x00#@W\\xc0\\x00\\x00\\x00\\x00\\x00\\x08\\r\\x0f\\x11\\x13\\x16\\x1b\\x1f#,5:C\\x00\\x00\\x00\\x00\\x00\\x00\\x01\\x01\\x00\\x00\\x00\\x00\\x00\\x00\\x00\\r\\x00\\x00\\x00\\x00\\x00\\x00\\x00\\x00\\x00\\x00\\x00\\x00\\x00\\x00\\x00Lbplist00\\x10\\x00\\x08\\x00\\x00\\x00\\x00\\x00\\x00\\x01\\x01\\x00\\x00\\x00\\x00\\x00\\x00\\x00\\x01\\x00\\x00\\x00\\x00\\x00\\x00\\x00\\x00\\x00\\x00\\x00\\x00\\x00\\x00\\x00\\n'}\n"
     ]
    }
   ],
   "source": [
    "# 필요한 정보가 무엇인지 골라보자.\n",
    "exif_data = get_image_all_metadata(image_path)\n",
    "print(exif_data)"
   ]
  },
  {
   "cell_type": "code",
   "execution_count": null,
   "id": "057289c9-2e75-442d-95b3-c6b5584df38c",
   "metadata": {},
   "outputs": [],
   "source": []
  },
  {
   "cell_type": "markdown",
   "id": "7e7ee08b-ba05-4ae4-bfae-505f7d86fce3",
   "metadata": {},
   "source": [
    "**\"GPSInfo\", \"Model\", \"DateTime\",\"ExifImageWidth\", \"ExifImageHeight\"만 사용하는 것으로 한다면**"
   ]
  },
  {
   "cell_type": "code",
   "execution_count": 33,
   "id": "e4215856-3d73-4f6e-bf4f-e9844313d600",
   "metadata": {},
   "outputs": [],
   "source": [
    "def get_selected_metadata(image_path):\n",
    "    # 이미지 파일 열기\n",
    "    image = Image.open(image_path)\n",
    "    metadata = {}\n",
    "    \n",
    "    # EXIF 데이터 추출\n",
    "    exif_data = image._getexif()\n",
    "    if exif_data:\n",
    "        # 추출할 태그 리스트\n",
    "        selected_tags = {\"GPSInfo\", \"Model\", \"DateTime\",\"ExifImageWidth\", \"ExifImageHeight\"}\n",
    "        \n",
    "        for tag_id, value in exif_data.items():\n",
    "            # 태그 ID를 사람이 읽을 수 있는 이름으로 변환\n",
    "            tag_name = TAGS.get(tag_id, tag_id)\n",
    "            if tag_name in selected_tags:\n",
    "                metadata[tag_name] = value\n",
    "    \n",
    "    return metadata\n",
    "\n",
    "\n",
    "def convert_to_degrees(value):\n",
    "    \"\"\"Convert the GPS coordinates stored in EXIF to degrees in float format\"\"\"\n",
    "    d, m, s = value\n",
    "    return d + (m / 60.0) + (s / 3600.0)\n",
    "\n",
    "def extract_lat_lon_altitude(gps_info):\n",
    "    \"\"\"Extract latitude, longitude, and altitude from GPSInfo\"\"\"\n",
    "    latitude, longitude, altitude = None, None, None\n",
    "\n",
    "    if gps_info:\n",
    "        # 위도 추출\n",
    "        lat_ref = gps_info.get(1)\n",
    "        lat = gps_info.get(2)\n",
    "        if lat and lat_ref:\n",
    "            latitude = convert_to_degrees(lat)\n",
    "            if lat_ref != \"N\":  # 남반구일 경우 음수로 변환\n",
    "                latitude = -latitude\n",
    "        \n",
    "        # 경도 추출\n",
    "        lon_ref = gps_info.get(3)\n",
    "        lon = gps_info.get(4)\n",
    "        if lon and lon_ref:\n",
    "            longitude = convert_to_degrees(lon)\n",
    "            if lon_ref != \"E\":  # 서반구일 경우 음수로 변환\n",
    "                longitude = -longitude\n",
    "        \n",
    "        # 고도 추출\n",
    "        altitude = gps_info.get(6)\n",
    "\n",
    "    return latitude, longitude, altitude\n",
    "\n",
    "def get_address_from_coordinates(lat, lon, api_key):\n",
    "    \"\"\"Use Google Maps Geocoding API to get the address from coordinates\"\"\"\n",
    "    url = f\"https://maps.googleapis.com/maps/api/geocode/json?latlng={lat},{lon}&key={api_key}\"\n",
    "    response = requests.get(url)\n",
    "    if response.status_code == 200:\n",
    "        data = response.json()\n",
    "        if data['results']:\n",
    "            return data['results'][0]['formatted_address']\n",
    "        else:\n",
    "            return \"주소를 찾을 수 없습니다.\"\n",
    "    else:\n",
    "        return \"API 요청에 실패했습니다.\"\n",
    "\n",
    "def lat_lon_to_addr(lon,lat):\n",
    "    api_key = os.environ['KAKAOMAP_API_KEY']\n",
    "    url = 'https://dapi.kakao.com/v2/local/geo/coord2regioncode.json?x={longitude}&y={latitude}'.format(longitude=lon,latitude=lat)\n",
    "    headers = {\"Authorization\": \"KakaoAK \" + api_key}\n",
    "    result = json.loads(str(requests.get(url, headers=headers).text))\n",
    "    match_first = result['documents'][0]['address_name']\n",
    "    return str(match_first)"
   ]
  },
  {
   "cell_type": "code",
   "execution_count": 34,
   "id": "4b904bf4-6d61-401a-abbc-bb9f2e2a363c",
   "metadata": {},
   "outputs": [
    {
     "name": "stdout",
     "output_type": "stream",
     "text": [
      "{'GPSInfo': {1: 'N', 2: (37.0, 33.0, 6.59), 3: 'E', 4: (127.0, 18.0, 53.43), 5: b'\\x00', 6: 30.200124753092837, 7: (8.0, 32.0, 39.0), 12: 'K', 13: 0.0, 16: 'T', 17: 185.17003628823224, 23: 'T', 24: 185.17003628823224, 29: '2024:10:09', 31: 3.5355339046563916}, 'Model': 'iPhone 13 Pro Max', 'DateTime': '2024:10:09 17:32:39', 'ExifImageWidth': 4032, 'ExifImageHeight': 3024}\n"
     ]
    }
   ],
   "source": [
    "exif_data = get_selected_metadata(image_path)\n",
    "print(exif_data)"
   ]
  },
  {
   "cell_type": "code",
   "execution_count": 35,
   "id": "c508ca46-02a9-4625-8837-031531c721c5",
   "metadata": {},
   "outputs": [
    {
     "name": "stdout",
     "output_type": "stream",
     "text": [
      "GPSInfo : {1: 'N', 2: (37.0, 33.0, 6.59), 3: 'E', 4: (127.0, 18.0, 53.43), 5: b'\\x00', 6: 30.200124753092837, 7: (8.0, 32.0, 39.0), 12: 'K', 13: 0.0, 16: 'T', 17: 185.17003628823224, 23: 'T', 24: 185.17003628823224, 29: '2024:10:09', 31: 3.5355339046563916}\n",
      "\n",
      "Model : iPhone 13 Pro Max\n",
      "\n",
      "DateTime : 2024:10:09 17:32:39\n",
      "\n",
      "ExifImageWidth : 4032\n",
      "\n",
      "ExifImageHeight : 3024\n",
      "\n"
     ]
    }
   ],
   "source": [
    "for tag_id, value in exif_data.items():\n",
    "    print(\"{} : {}\".format(tag_id, value))\n",
    "    print()"
   ]
  },
  {
   "cell_type": "code",
   "execution_count": 43,
   "id": "87cbb61d-5db3-4319-ae9c-2591f1e7e0a4",
   "metadata": {},
   "outputs": [
    {
     "name": "stdout",
     "output_type": "stream",
     "text": [
      "lat:37.55183, long:127.31484, alt:30.200124753092837\n",
      "경기도 남양주시 조안면 진중리\n"
     ]
    }
   ],
   "source": [
    "latitude, longitude, altitude = extract_lat_lon_altitude(exif_data['GPSInfo'])\n",
    "\n",
    "print('lat:{}, long:{}, alt:{}'.format(round(latitude,5), round(longitude,5), altitude))\n",
    "\n",
    "if latitude is not None and longitude is not None:\n",
    "    addr = lat_lon_to_addr(longitude, latitude)\n",
    "    print(addr)\n",
    "else:\n",
    "    print(\"GPS 정보를 찾을 수 없습니다.\")"
   ]
  },
  {
   "cell_type": "code",
   "execution_count": null,
   "id": "9cb75c0a-1f36-42a9-95c0-df0a6b9a157f",
   "metadata": {},
   "outputs": [],
   "source": []
  }
 ],
 "metadata": {
  "kernelspec": {
   "display_name": "Python 3 (ipykernel)",
   "language": "python",
   "name": "python3"
  },
  "language_info": {
   "codemirror_mode": {
    "name": "ipython",
    "version": 3
   },
   "file_extension": ".py",
   "mimetype": "text/x-python",
   "name": "python",
   "nbconvert_exporter": "python",
   "pygments_lexer": "ipython3",
   "version": "3.10.15"
  }
 },
 "nbformat": 4,
 "nbformat_minor": 5
}
